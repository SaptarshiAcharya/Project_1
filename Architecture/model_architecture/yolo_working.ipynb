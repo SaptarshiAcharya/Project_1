{
  "cells": [
    {
      "cell_type": "code",
      "execution_count": 1,
      "metadata": {
        "colab": {
          "base_uri": "https://localhost:8080/"
        },
        "id": "hkXHdJidlpPs",
        "outputId": "d043af80-eaeb-4194-cb69-c5968a4ed368"
      },
      "outputs": [
        {
          "name": "stderr",
          "output_type": "stream",
          "text": [
            "DEPRECATION: Loading egg at c:\\users\\kiit\\appdata\\local\\programs\\python\\python311\\lib\\site-packages\\mathparse-0.1.2-py3.11.egg is deprecated. pip 25.1 will enforce this behaviour change. A possible replacement is to use pip for package installation. Discussion can be found at https://github.com/pypa/pip/issues/12330\n",
            "DEPRECATION: Loading egg at c:\\users\\kiit\\appdata\\local\\programs\\python\\python311\\lib\\site-packages\\sqlalchemy-1.3.24-py3.11-win-amd64.egg is deprecated. pip 25.1 will enforce this behaviour change. A possible replacement is to use pip for package installation. Discussion can be found at https://github.com/pypa/pip/issues/12330\n",
            "\n",
            "[notice] A new release of pip is available: 25.0.1 -> 25.2\n",
            "[notice] To update, run: python.exe -m pip install --upgrade pip\n",
            "DEPRECATION: Loading egg at c:\\users\\kiit\\appdata\\local\\programs\\python\\python311\\lib\\site-packages\\mathparse-0.1.2-py3.11.egg is deprecated. pip 25.1 will enforce this behaviour change. A possible replacement is to use pip for package installation. Discussion can be found at https://github.com/pypa/pip/issues/12330\n",
            "DEPRECATION: Loading egg at c:\\users\\kiit\\appdata\\local\\programs\\python\\python311\\lib\\site-packages\\sqlalchemy-1.3.24-py3.11-win-amd64.egg is deprecated. pip 25.1 will enforce this behaviour change. A possible replacement is to use pip for package installation. Discussion can be found at https://github.com/pypa/pip/issues/12330\n",
            "  WARNING: Retrying (Retry(total=4, connect=None, read=None, redirect=None, status=None)) after connection broken by 'ReadTimeoutError(\"HTTPSConnectionPool(host='files.pythonhosted.org', port=443): Read timed out. (read timeout=15)\")': /packages/71/4c/3db2b8021bd6f2f0ceb0e088d6b2d49147671f25832fb17970e9b583d742/certifi-2022.12.7-py3-none-any.whl.metadata\n",
            "ERROR: pip's dependency resolver does not currently take into account all the packages that are installed. This behaviour is the source of the following dependency conflicts.\n",
            "mediapipe 0.10.9 requires protobuf<4,>=3.11, but you have protobuf 5.29.5 which is incompatible.\n",
            "pandas-profiling 3.2.0 requires joblib~=1.1.0, but you have joblib 1.4.2 which is incompatible.\n",
            "pandas-profiling 3.2.0 requires visions[type_image_path]==0.7.4, but you have visions 0.7.6 which is incompatible.\n",
            "sparseml 1.8.0 requires onnx<1.15.0,>=1.5.0, but you have onnx 1.18.0 which is incompatible.\n",
            "sparseml 1.8.0 requires protobuf<=3.20.3,>=3.12.2, but you have protobuf 5.29.5 which is incompatible.\n",
            "sparseml 1.8.0 requires pydantic<2.8.0,>=2.0.0, but you have pydantic 2.10.6 which is incompatible.\n",
            "sparsezoo 1.8.1 requires onnx<1.15.0,>=1.5.0, but you have onnx 1.18.0 which is incompatible.\n",
            "streamlit 1.33.0 requires protobuf<5,>=3.20, but you have protobuf 5.29.5 which is incompatible.\n",
            "tensorflow-intel 2.18.0 requires keras>=3.5.0, but you have keras 2.15.0 which is incompatible.\n",
            "transform 1.2.0 requires pandas<1.5.0,>=0.24.2, but you have pandas 2.2.2 which is incompatible.\n",
            "\n",
            "[notice] A new release of pip is available: 25.0.1 -> 25.2\n",
            "[notice] To update, run: python.exe -m pip install --upgrade pip\n"
          ]
        }
      ],
      "source": [
        "!pip install ultralytics -q\n",
        "!pip install roboflow -q"
      ]
    },
    {
      "cell_type": "code",
      "execution_count": 2,
      "metadata": {
        "colab": {
          "base_uri": "https://localhost:8080/"
        },
        "id": "3v9yvh89MdBS",
        "outputId": "22598810-5b29-45e0-ddb4-4d7251a6ed66"
      },
      "outputs": [
        {
          "name": "stdout",
          "output_type": "stream",
          "text": [
            "WARNING Ultralytics settings reset to default values. This may be due to a possible problem with your settings or a recent ultralytics package update. \n",
            "View Ultralytics Settings with 'yolo settings' or at 'C:\\Users\\KIIT\\AppData\\Roaming\\Ultralytics\\settings.json'\n",
            "Update Settings with 'yolo settings key=value', i.e. 'yolo settings runs_dir=path/to/dir'. For help see https://docs.ultralytics.com/quickstart/#ultralytics-settings.\n"
          ]
        }
      ],
      "source": [
        "from ultralytics.nn.modules import (\n",
        "    AIFI,\n",
        "    C1,\n",
        "    C2,\n",
        "    C2PSA,\n",
        "    C3,\n",
        "    C3TR,\n",
        "    ELAN1,\n",
        "    OBB,\n",
        "    PSA,\n",
        "    SPP,\n",
        "    SPPELAN,\n",
        "    SPPF,\n",
        "    A2C2f,\n",
        "    AConv,\n",
        "    ADown,\n",
        "    Bottleneck,\n",
        "    BottleneckCSP,\n",
        "    C2f,\n",
        "    C2fAttn,\n",
        "    C2fCIB,\n",
        "    C2fPSA,\n",
        "    C3Ghost,\n",
        "    C3k2,\n",
        "    C3x,\n",
        "    CBFuse,\n",
        "    CBLinear,\n",
        "    Classify,\n",
        "    Concat,\n",
        "    Conv,\n",
        "    Conv2,\n",
        "    ConvTranspose,\n",
        "    Detect,\n",
        "    DWConv,\n",
        "    DWConvTranspose2d,\n",
        "    Focus,\n",
        "    GhostBottleneck,\n",
        "    GhostConv,\n",
        "    HGBlock,\n",
        "    HGStem,\n",
        "    ImagePoolingAttn,\n",
        "    Index,\n",
        "    LRPCHead,\n",
        "    Pose,\n",
        "    RepC3,\n",
        "    RepConv,\n",
        "    RepNCSPELAN4,\n",
        "    RepVGGDW,\n",
        "    ResNetLayer,\n",
        "    RTDETRDecoder,\n",
        "    SCDown,\n",
        "    Segment,\n",
        "    TorchVision,\n",
        "    WorldDetect,\n",
        "    YOLOEDetect,\n",
        "    YOLOESegment,\n",
        "    v10Detect,\n",
        ")"
      ]
    },
    {
      "cell_type": "code",
      "execution_count": 34,
      "metadata": {},
      "outputs": [
        {
          "name": "stdout",
          "output_type": "stream",
          "text": [
            "u8Ur5ywKLswqwt0uMTXl\n"
          ]
        }
      ],
      "source": [
        "import configparser\n",
        "config = configparser.ConfigParser()\n",
        "config.read('../../myconfig.config')\n",
        "print(config['roboflow']['roboflow_api_key'])\n"
      ]
    },
    {
      "cell_type": "code",
      "execution_count": null,
      "metadata": {
        "colab": {
          "base_uri": "https://localhost:8080/"
        },
        "id": "dQwNxIhP_EFx",
        "outputId": "1996b950-7332-4dbd-f06b-cd3ef52fa68f"
      },
      "outputs": [],
      "source": [
        "from roboflow import Roboflow\n",
        "rf = Roboflow(api_key=config['roboflow']['roboflow_api_key'])\n",
        "project = rf.workspace(\"poacher-ifyuf\").project(\"poacher\")\n",
        "version = project.version(2)\n",
        "dataset = version.download(\"yolov8\",location=\"..\\..\\Architecture\\Test_Dataset\")"
      ]
    },
    {
      "cell_type": "code",
      "execution_count": null,
      "metadata": {
        "id": "2bOcaZ6dnMDR"
      },
      "outputs": [],
      "source": [
        "# import sys\n",
        "# sys.path.append('/content/drive/MyDrive/Colab_Notebooks/YOLO_architecture/utillity')"
      ]
    },
    {
      "cell_type": "code",
      "execution_count": 36,
      "metadata": {
        "id": "go1t4uz6uARV"
      },
      "outputs": [],
      "source": [
        "from ultralytics import nn\n",
        "from ultralytics.nn import modules, tasks\n",
        "import ultralytics.nn.autobackend as autobackend\n",
        "from model_classes import Upsample, Conv, C2f, SPPF, DFL, Head, Bottleneck, Concat\n",
        "from ultralytics.nn.tasks import parse_model, yaml_model_load\n",
        "from copy import deepcopy\n",
        "\n",
        "\n",
        "def patch_ultralytics_layers(custom_classes):\n",
        "    submodules = [\n",
        "        nn,                          # ultralytics.nn\n",
        "        modules,                     # ultralytics.nn.modules\n",
        "        tasks,                       # ultralytics.nn.tasks\n",
        "        autobackend,                 # ultralytics.nn.autobackend\n",
        "    ]\n",
        "\n",
        "    for cls in custom_classes:\n",
        "        for mod in submodules:\n",
        "            mod.__dict__[cls.__name__] = cls\n",
        "\n",
        "def build_model(model_yaml, version='n', ch=3, verbose=False, custom_classes=[]):\n",
        "\n",
        "  patch_ultralytics_layers(custom_classes)\n",
        "\n",
        "  mod_ya = model_yaml if isinstance(model_yaml, dict) else yaml_model_load(model_yaml)\n",
        "  mod_ya['scale'] = version.lower()\n",
        "  model, save  = parse_model(deepcopy(mod_ya), ch=ch, verbose=verbose)\n",
        "\n",
        "  return model,save\n"
      ]
    },
    {
      "cell_type": "code",
      "execution_count": 38,
      "metadata": {
        "colab": {
          "base_uri": "https://localhost:8080/"
        },
        "id": "Zg1Fe3WHzfZJ",
        "outputId": "d9ddbd32-916b-4438-c8ff-ee7337ac837d"
      },
      "outputs": [
        {
          "name": "stdout",
          "output_type": "stream",
          "text": [
            "\n",
            "                   from  n    params  module                                       arguments                     \n",
            "  0                  -1  1      1856  model_classes.Conv                           [3, 64, 3, 2]                 \n",
            "  1                  -1  1     73984  model_classes.Conv                           [64, 128, 3, 2]               \n",
            "  2                  -1  3    279808  model_classes.C2f                            [128, 128, 3, True]           \n",
            "  3                  -1  1    295424  model_classes.Conv                           [128, 256, 3, 2]              \n",
            "  4                  -1  6   2101248  model_classes.C2f                            [256, 256, 6, True]           \n",
            "  5                  -1  1   1180672  model_classes.Conv                           [256, 512, 3, 2]              \n",
            "  6                  -1  6   8396800  model_classes.C2f                            [512, 512, 6, True]           \n",
            "  7                  -1  1   2360320  model_classes.Conv                           [512, 512, 3, 2]              \n",
            "  8                  -1  3   4461568  model_classes.C2f                            [512, 512, 3, True]           \n",
            "  9                  -1  1    656896  model_classes.SPPF                           [512, 512, 5]                 \n",
            " 10                  -1  1         0  model_classes.Upsample                       [2, 'nearest']                \n",
            " 11             [-1, 6]  1         0  model_classes.Concat                         [1]                           \n",
            " 12                  -1  3   4723712  model_classes.C2f                            [1024, 512, 3]                \n",
            " 13                  -1  1         0  model_classes.Upsample                       [2, 'nearest']                \n",
            " 14             [-1, 4]  1         0  model_classes.Concat                         [1]                           \n",
            " 15                  -1  3   1247744  model_classes.C2f                            [768, 256, 3]                 \n",
            " 16                  -1  1    590336  model_classes.Conv                           [256, 256, 3, 2]              \n",
            " 17            [-1, 12]  1         0  model_classes.Concat                         [1]                           \n",
            " 18                  -1  3   4592640  model_classes.C2f                            [768, 512, 3]                 \n",
            " 19                  -1  1   2360320  model_classes.Conv                           [512, 512, 3, 2]              \n",
            " 20             [-1, 9]  1         0  model_classes.Concat                         [1]                           \n",
            " 21                  -1  3   4723712  model_classes.C2f                            [1024, 512, 3]                \n",
            " 22        [15, 18, 21]  1   5644480  ultralytics.nn.modules.head.Detect           [80, [256, 512, 512]]         \n",
            "my_YOLOv8l summary: 294 layers, 43,691,520 parameters, 43,691,504 gradients, 165.7 GFLOPs\n",
            "\n",
            "43.69 million parameters\n"
          ]
        }
      ],
      "source": [
        "from ultralytics import YOLO\n",
        "m_class = [Upsample, Conv, C2f, SPPF, DFL, Head, Bottleneck, Concat]\n",
        "model_yaml = \"my_yolov8l.yaml\"\n",
        "\n",
        "model,save = build_model(model_yaml, custom_classes=m_class, version='l', verbose=False)\n",
        "\n",
        "model = YOLO(model_yaml, verbose=True)\n",
        "print(f\"{sum(p.numel() for p in model.parameters()) / 1e6:.2f} million parameters\")"
      ]
    },
    {
      "cell_type": "code",
      "execution_count": 39,
      "metadata": {
        "colab": {
          "base_uri": "https://localhost:8080/"
        },
        "collapsed": true,
        "id": "gaRK0qtTMI3r",
        "outputId": "89eacea5-f74a-49c6-e47d-c6e24f20e609"
      },
      "outputs": [
        {
          "name": "stdout",
          "output_type": "stream",
          "text": [
            "Conv2d(3, 64, kernel_size=(3, 3), stride=(2, 2), padding=(1, 1), bias=False)\n"
          ]
        }
      ],
      "source": [
        "for m in model.modules():\n",
        "  if isinstance(m, (Conv, Conv2, DWConv)) and hasattr(m, \"bn\"):\n",
        "    if isinstance(m, Conv2):\n",
        "      pass\n",
        "    print(m.conv)\n",
        "    break\n"
      ]
    },
    {
      "cell_type": "code",
      "execution_count": null,
      "metadata": {
        "colab": {
          "base_uri": "https://localhost:8080/"
        },
        "id": "eSsalGpq-_ly",
        "outputId": "63d0b951-9c16-46b6-91dc-1f563421d2a9"
      },
      "outputs": [],
      "source": [
        "results = model.train(data=\"/content/poacher-2/data.yaml\", epochs=1, imgsz=64, device=0 )"
      ]
    },
    {
      "cell_type": "code",
      "execution_count": 8,
      "metadata": {
        "id": "FNwBXzbqE-m3"
      },
      "outputs": [],
      "source": []
    }
  ],
  "metadata": {
    "accelerator": "GPU",
    "colab": {
      "gpuType": "T4",
      "provenance": []
    },
    "kernelspec": {
      "display_name": "Python 3",
      "name": "python3"
    },
    "language_info": {
      "codemirror_mode": {
        "name": "ipython",
        "version": 3
      },
      "file_extension": ".py",
      "mimetype": "text/x-python",
      "name": "python",
      "nbconvert_exporter": "python",
      "pygments_lexer": "ipython3",
      "version": "3.11.3"
    }
  },
  "nbformat": 4,
  "nbformat_minor": 0
}
